{
 "cells": [
  {
   "cell_type": "code",
   "execution_count": null,
   "id": "c5510480-8086-4c55-b7a2-b8db93e4271d",
   "metadata": {},
   "outputs": [],
   "source": [
    "def get_neighbors(state):\n",
    "    neighbors = []\n",
    "    empty = state.index('_')\n",
    "\n",
    "    if empty + 1 < len(state) and state[empty + 1] == 'W':\n",
    "        new_state = list(state)\n",
    "        new_state[empty], new_state[empty + 1] = new_state[empty + 1], new_state[empty]\n",
    "        neighbors.append(''.join(new_state))\n",
    "\n",
    "    if empty + 2 < len(state) and state[empty + 2] == 'W' and state[empty + 1] == 'E':\n",
    "        new_state = list(state)\n",
    "        new_state[empty], new_state[empty + 2] = new_state[empty + 2], new_state[empty]\n",
    "        neighbors.append(''.join(new_state))\n",
    "\n",
    "    if empty - 1 >= 0 and state[empty - 1] == 'E':\n",
    "        new_state = list(state)\n",
    "        new_state[empty], new_state[empty - 1] = new_state[empty - 1], new_state[empty]\n",
    "        neighbors.append(''.join(new_state))\n",
    "\n",
    "    if empty - 2 >= 0 and state[empty - 2] == 'E' and state[empty - 1] == 'W':\n",
    "        new_state = list(state)\n",
    "        new_state[empty], new_state[empty - 2] = new_state[empty - 2], new_state[empty]\n",
    "        neighbors.append(''.join(new_state))\n",
    "\n",
    "    return neighbors\n",
    "\n",
    "\n",
    "def dfs(start, goal, max_depth=50):\n",
    "    stack = [(start, [start])]\n",
    "    visited = set()\n",
    "\n",
    "    while stack:\n",
    "        current, path = stack.pop()\n",
    "\n",
    "        if current == goal:\n",
    "            return path\n",
    "\n",
    "        if current in visited or len(path) > max_depth:\n",
    "            continue\n",
    "\n",
    "        visited.add(current)\n",
    "\n",
    "        for neighbor in get_neighbors(current):\n",
    "            if neighbor not in visited:\n",
    "                stack.append((neighbor, path + [neighbor]))\n",
    "\n",
    "    return None \n"
   ]
  },
  {
   "cell_type": "code",
   "execution_count": null,
   "id": "0c8fbc25-7b06-4053-8357-6ed8ecc2b4ba",
   "metadata": {},
   "outputs": [
    {
     "name": "stdout",
     "output_type": "stream",
     "text": [
      "DFS Solution found in 15 moves:\n",
      "\n",
      "0: EEE_WWW\n",
      "1: EE_EWWW\n",
      "2: EEWE_WW\n",
      "3: EEWEW_W\n",
      "4: EEW_WEW\n",
      "5: E_WEWEW\n",
      "6: _EWEWEW\n",
      "7: WE_EWEW\n",
      "8: WEWE_EW\n",
      "9: WEWEWE_\n",
      "10: WEWEW_E\n",
      "11: WEW_WEE\n",
      "12: W_WEWEE\n",
      "13: WW_EWEE\n",
      "14: WWWE_EE\n",
      "15: WWW_EEE\n"
     ]
    }
   ],
   "source": [
    "\n",
    "start_state = 'EEE_WWW'\n",
    "goal_state = 'WWW_EEE'\n",
    "\n",
    "solution_path = dfs(start_state, goal_state)\n",
    "\n",
    "if solution_path:\n",
    "    print(f\"DFS Solution found in {len(solution_path) - 1} moves:\\n\")\n",
    "    for i, step in enumerate(solution_path):\n",
    "        print(f\"{i}: {step}\")\n",
    "else:\n",
    "    print(\"No solution found.\")\n"
   ]
  },
  {
   "cell_type": "code",
   "execution_count": null,
   "id": "aefcbc18-4292-4edf-8bd5-a312d8d3db1b",
   "metadata": {},
   "outputs": [],
   "source": []
  }
 ],
 "metadata": {
  "kernelspec": {
   "display_name": "Python 3 (ipykernel)",
   "language": "python",
   "name": "python3"
  },
  "language_info": {
   "codemirror_mode": {
    "name": "ipython",
    "version": 3
   },
   "file_extension": ".py",
   "mimetype": "text/x-python",
   "name": "python",
   "nbconvert_exporter": "python",
   "pygments_lexer": "ipython3",
   "version": "3.13.2"
  }
 },
 "nbformat": 4,
 "nbformat_minor": 5
}
