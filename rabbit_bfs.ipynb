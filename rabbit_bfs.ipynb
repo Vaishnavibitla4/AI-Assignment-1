{
 "cells": [
  {
   "cell_type": "code",
   "execution_count": 1,
   "id": "1207105f-cb33-4848-b66d-92a458d1bf29",
   "metadata": {},
   "outputs": [],
   "source": [
    "from collections import deque\n",
    "\n",
    "def get_neighbors(state):\n",
    "    neighbors = []\n",
    "    empty = state.index('_')\n",
    "\n",
    "    # Move left (empty comes from right)\n",
    "    if empty + 1 < len(state) and state[empty + 1] == 'W':\n",
    "        # W moves left into _\n",
    "        new_state = list(state)\n",
    "        new_state[empty], new_state[empty + 1] = new_state[empty + 1], new_state[empty]\n",
    "        neighbors.append(''.join(new_state))\n",
    "\n",
    "    if empty + 2 < len(state) and state[empty + 2] == 'W' and state[empty + 1] == 'E':\n",
    "        # W jumps over E\n",
    "        new_state = list(state)\n",
    "        new_state[empty], new_state[empty + 2] = new_state[empty + 2], new_state[empty]\n",
    "        neighbors.append(''.join(new_state))\n",
    "\n",
    "    # Move right (empty comes from left)\n",
    "    if empty - 1 >= 0 and state[empty - 1] == 'E':\n",
    "        # E moves right into _\n",
    "        new_state = list(state)\n",
    "        new_state[empty], new_state[empty - 1] = new_state[empty - 1], new_state[empty]\n",
    "        neighbors.append(''.join(new_state))\n",
    "\n",
    "    if empty - 2 >= 0 and state[empty - 2] == 'E' and state[empty - 1] == 'W':\n",
    "        # E jumps over W\n",
    "        new_state = list(state)\n",
    "        new_state[empty], new_state[empty - 2] = new_state[empty - 2], new_state[empty]\n",
    "        neighbors.append(''.join(new_state))\n",
    "\n",
    "    return neighbors\n",
    "\n",
    "\n",
    "def bfs(start, goal):\n",
    "    queue = deque()\n",
    "    queue.append((start, [start]))\n",
    "    visited = set()\n",
    "    visited.add(start)\n",
    "\n",
    "    while queue:\n",
    "        current, path = queue.popleft()\n",
    "\n",
    "        if current == goal:\n",
    "            return path\n",
    "\n",
    "        for neighbor in get_neighbors(current):\n",
    "            if neighbor not in visited:\n",
    "                visited.add(neighbor)\n",
    "                queue.append((neighbor, path + [neighbor]))\n",
    "    \n",
    "    return None\n"
   ]
  },
  {
   "cell_type": "code",
   "execution_count": 2,
   "id": "81bc55f3-a69e-445a-a2ec-abf334ed8f58",
   "metadata": {},
   "outputs": [
    {
     "name": "stdout",
     "output_type": "stream",
     "text": [
      "Solution found in 15 moves:\n",
      "\n",
      "0: EEE_WWW\n",
      "1: EEEW_WW\n",
      "2: EE_WEWW\n",
      "3: E_EWEWW\n",
      "4: EWE_EWW\n",
      "5: EWEWE_W\n",
      "6: EWEWEW_\n",
      "7: EWEW_WE\n",
      "8: EW_WEWE\n",
      "9: _WEWEWE\n",
      "10: W_EWEWE\n",
      "11: WWE_EWE\n",
      "12: WWEWE_E\n",
      "13: WWEW_EE\n",
      "14: WW_WEEE\n",
      "15: WWW_EEE\n"
     ]
    }
   ],
   "source": [
    "# Run the fixed solution\n",
    "start_state = 'EEE_WWW'\n",
    "goal_state = 'WWW_EEE'\n",
    "\n",
    "solution = bfs(start_state, goal_state)\n",
    "\n",
    "# Display result\n",
    "if solution:\n",
    "    print(f\"Solution found in {len(solution) - 1} moves:\\n\")\n",
    "    for i, step in enumerate(solution):\n",
    "        print(f\"{i}: {step}\")\n",
    "else:\n",
    "    print(\"No solution found.\")"
   ]
  },
  {
   "cell_type": "code",
   "execution_count": null,
   "id": "7bf345e6-adc6-414a-8f2c-9936f16a4232",
   "metadata": {},
   "outputs": [],
   "source": []
  }
 ],
 "metadata": {
  "kernelspec": {
   "display_name": "Python 3 (ipykernel)",
   "language": "python",
   "name": "python3"
  },
  "language_info": {
   "codemirror_mode": {
    "name": "ipython",
    "version": 3
   },
   "file_extension": ".py",
   "mimetype": "text/x-python",
   "name": "python",
   "nbconvert_exporter": "python",
   "pygments_lexer": "ipython3",
   "version": "3.13.2"
  }
 },
 "nbformat": 4,
 "nbformat_minor": 5
}
